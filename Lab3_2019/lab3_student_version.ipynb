{
 "cells": [
  {
   "cell_type": "markdown",
   "metadata": {},
   "source": [
    "<h2>3<sup>η</sup> ΕΡΓΑΣΤΗΡΙΑΚΗ ΑΣΚΗΣΗ</h2>\n",
    "<h3>Γενετικοί Αλγόριθμοι</h3>\n",
    "<p style=text-align:justify>Στην παρούσα άσκηση θα εξοικειωθείτε με την χρήση των γενετικών αλγορίθμων και την επιλογή των παραμέτρων τους. Επιπλέον, θα αναπτύξετε ένα γενετικό αλγόριθμο για τον εντοπισμό κοινοτήτων σε πραγματικά δίκτυα και θα συγκρίνετε το αποτέλεσμά του με τους αλγόριθμους εντοπισμού κοινοτήτων που εφαρμόστηκαν στην 2<sup>η</sup> εργαστηριακή άσκηση.</p>"
   ]
  },
  {
   "cell_type": "code",
   "execution_count": 3,
   "metadata": {},
   "outputs": [],
   "source": [
    "%matplotlib inline\n",
    "\n",
    "import matplotlib\n",
    "import networkx as nx\n",
    "import matplotlib.pyplot as plt\n",
    "import numpy as np\n",
    "import scipy as sp\n",
    "import random"
   ]
  },
  {
   "cell_type": "markdown",
   "metadata": {},
   "source": [
    "### Άσκηση 1: Εξοικείωση με Γενετικούς Αλγόριθμους\n",
    "\n",
    "#### Πρόβλημα ONEMAX\n",
    "\n",
    "<p style=text-align:justify>Βρείτε την δυαδική ακολουθία $(x_1, x_2, ..., x_n)$ που μεγιστοποιεί το άθροισμα $x_1 + x_2 + ... + x_n, n=20$. Αναλύστε την επίδραση του μεγέθους του πληθυσμού, της πιθανότητας διασταύρωσης (crossover) και της πιθανότητας μετάλλαξης (mutation) στην ποιότητα της λύσης (πόσο κοντά είναι στην προφανή βέλτιστη λύση) που προκύπτει από το γενετικό αλγόριθμο. Συγκεκριμένα, μεταβάλλετε τον πληθυσμό από $10$ ως $100$ χρωμοσώματα με βήμα $10$,την πιθανότητα διασταύρωσης από $0.3$ ως $0.9$ με βήμα $0.1$ και την πιθανότητα μετάλλαξης από $0.01$ ως $0.2$ με βήμα $0.01$. Εξετάστε την ποιότητα της λύσης του γενετικού αλγορίθμου καθώς αλλάζετε τις παραμέτρους. Ελιτισμό μπορείτε να χρησιμοποιήσετε αν το επιθυμείτε.</p>"
   ]
  },
  {
   "cell_type": "code",
   "execution_count": 65,
   "metadata": {},
   "outputs": [
    {
     "name": "stdout",
     "output_type": "stream",
     "text": [
      "['00100010011110111011', '11000000111000111111', '11000100001100001000', '01001101110110010100', '00000101100000111000', '10011101000100100111', '10100000001000101100', '00111011010000011111', '10110001110101100101', '10000101000011011100']\n"
     ]
    },
    {
     "ename": "ValueError",
     "evalue": "probabilities do not sum to 1",
     "output_type": "error",
     "traceback": [
      "\u001b[1;31m---------------------------------------------------------------------------\u001b[0m",
      "\u001b[1;31mValueError\u001b[0m                                Traceback (most recent call last)",
      "\u001b[1;32m<ipython-input-65-fe5550d68f09>\u001b[0m in \u001b[0;36m<module>\u001b[1;34m\u001b[0m\n\u001b[0;32m     25\u001b[0m     \u001b[0mindex\u001b[0m \u001b[1;33m=\u001b[0m \u001b[0mnp\u001b[0m\u001b[1;33m.\u001b[0m\u001b[0mrandom\u001b[0m\u001b[1;33m.\u001b[0m\u001b[0mchoice\u001b[0m\u001b[1;33m(\u001b[0m\u001b[0mpopulation\u001b[0m\u001b[1;33m,\u001b[0m \u001b[0mp\u001b[0m\u001b[1;33m=\u001b[0m\u001b[0mlist\u001b[0m\u001b[1;33m(\u001b[0m\u001b[0mweights\u001b[0m\u001b[1;33m)\u001b[0m\u001b[1;33m)\u001b[0m\u001b[1;33m\u001b[0m\u001b[1;33m\u001b[0m\u001b[0m\n\u001b[0;32m     26\u001b[0m \u001b[1;33m\u001b[0m\u001b[0m\n\u001b[1;32m---> 27\u001b[1;33m \u001b[0mproportional_selection\u001b[0m\u001b[1;33m(\u001b[0m\u001b[0mcreate_population\u001b[0m\u001b[1;33m(\u001b[0m\u001b[1;33m)\u001b[0m\u001b[1;33m)\u001b[0m\u001b[1;33m\u001b[0m\u001b[1;33m\u001b[0m\u001b[0m\n\u001b[0m\u001b[0;32m     28\u001b[0m \u001b[1;33m\u001b[0m\u001b[0m\n\u001b[0;32m     29\u001b[0m \u001b[1;32mdef\u001b[0m \u001b[0mcrossover\u001b[0m\u001b[1;33m(\u001b[0m\u001b[1;33m)\u001b[0m\u001b[1;33m:\u001b[0m\u001b[1;33m\u001b[0m\u001b[1;33m\u001b[0m\u001b[0m\n",
      "\u001b[1;32m<ipython-input-65-fe5550d68f09>\u001b[0m in \u001b[0;36mproportional_selection\u001b[1;34m(population)\u001b[0m\n\u001b[0;32m     23\u001b[0m     \u001b[0mweights\u001b[0m \u001b[1;33m=\u001b[0m \u001b[0mmap\u001b[0m\u001b[1;33m(\u001b[0m\u001b[0mfind_fitness\u001b[0m\u001b[1;33m,\u001b[0m \u001b[0mpopulation\u001b[0m\u001b[1;33m)\u001b[0m\u001b[1;33m\u001b[0m\u001b[1;33m\u001b[0m\u001b[0m\n\u001b[0;32m     24\u001b[0m \u001b[1;33m\u001b[0m\u001b[0m\n\u001b[1;32m---> 25\u001b[1;33m     \u001b[0mindex\u001b[0m \u001b[1;33m=\u001b[0m \u001b[0mnp\u001b[0m\u001b[1;33m.\u001b[0m\u001b[0mrandom\u001b[0m\u001b[1;33m.\u001b[0m\u001b[0mchoice\u001b[0m\u001b[1;33m(\u001b[0m\u001b[0mpopulation\u001b[0m\u001b[1;33m,\u001b[0m \u001b[0mp\u001b[0m\u001b[1;33m=\u001b[0m\u001b[0mlist\u001b[0m\u001b[1;33m(\u001b[0m\u001b[0mweights\u001b[0m\u001b[1;33m)\u001b[0m\u001b[1;33m)\u001b[0m\u001b[1;33m\u001b[0m\u001b[1;33m\u001b[0m\u001b[0m\n\u001b[0m\u001b[0;32m     26\u001b[0m \u001b[1;33m\u001b[0m\u001b[0m\n\u001b[0;32m     27\u001b[0m \u001b[0mproportional_selection\u001b[0m\u001b[1;33m(\u001b[0m\u001b[0mcreate_population\u001b[0m\u001b[1;33m(\u001b[0m\u001b[1;33m)\u001b[0m\u001b[1;33m)\u001b[0m\u001b[1;33m\u001b[0m\u001b[1;33m\u001b[0m\u001b[0m\n",
      "\u001b[1;32mmtrand.pyx\u001b[0m in \u001b[0;36mnumpy.random.mtrand.RandomState.choice\u001b[1;34m()\u001b[0m\n",
      "\u001b[1;31mValueError\u001b[0m: probabilities do not sum to 1"
     ]
    }
   ],
   "source": [
    "def create_population():\n",
    "    # Create the initial population\n",
    "    A = ['0', '1']\n",
    "    population = []\n",
    "    for i in range(10):\n",
    "        # Make a random binary string with length 20\n",
    "        population.append(''.join((random.choice(A)) for j in range(20)))\n",
    "    print(population)\n",
    "    return(population)\n",
    "\n",
    "# print(create_population()[:10])\n",
    "    \n",
    "def find_fitness(chromosome):\n",
    "    # Calculate fitness of chromosomes\n",
    "    my_sum = 0\n",
    "    for i in chromosome:\n",
    "        if i == '1':\n",
    "            my_sum += 1\n",
    "    return(my_sum)\n",
    "        \n",
    "def proportional_selection(population):\n",
    "    # Select chromosomes to pass to next population proportionally to their fitness\n",
    "    weights = map(find_fitness, population)\n",
    "\n",
    "    index = np.random.choice(population, p=list(weights))\n",
    "    \n",
    "proportional_selection(create_population())\n",
    "    \n",
    "def crossover():\n",
    "    # Apply crossover to population\n",
    "    pass\n",
    "\n",
    "def mutation():\n",
    "    # Apply mutation to population\n",
    "    pass\n",
    "\n",
    "def genetic_algorithm():\n",
    "    # Main genetic algorithm\n",
    "    pass"
   ]
  },
  {
   "cell_type": "markdown",
   "metadata": {},
   "source": [
    "### Άσκηση 2: Εντοπισμός Κοινοτήτων σε Γράφους Κοινωνικών Δικτύων με Χρήση Γενετικών Αλγορίθμων\n",
    "\n",
    "<p style=text-align:justify>Στην παρούσα άσκηση θα αναπτύξετε κώδικα για εντοπισμό κοινοτήτων σε γράφους δικτύων με χρήση γενετικών αλγορίθμων. Ακολούθως θα εφαρμόσετε το γενετικό αλγόριθμο για τον εντοπισμό κοινοτήτων σε πραγματικά δίκτυα και θα συγκρίνετε το αποτέλεσμά του με εκείνο των αλγορίθμων της δεύτερης εργαστηριακής άσκησης χρησιμοποιώντας τη μετρική modularity.</p>\n",
    "\n",
    "##### Αναπαράσταση υποψήφιων λύσεων (χρωμοσωμάτων)\n",
    "<p style=text-align:justify>Κάθε χρωμόσωμα $b_{i,t}$ του πληθυσμού τη χρονική στιγμή $t$ είναι ένα διάνυσμα με μήκος ίσο με το πλήθος των κόμβων του δικτύου, $n$. Αν $b_{i,t}(j)=d$ τότε οι κόμβοι $j,d$ ανήκουν στην ίδια κοινότητα. Επιπλέον για να ισχύει $b_{i,t}(j)=d$ , οι κόμβοι $j,d$ θα πρέπει να συνδέονται στην αρχική τοπολογία. Τότε, βρίσκοντας τις συνδεδεμένες συνιστώσες του χρωμοσώματος $b_{i,t}$ , προκύπτουν οι κοινότητες του δικτύου.</p>\n",
    "\n",
    "##### Αρχικοποίηση\n",
    "<p style=text-align:justify>Η αρχική γενιά του πληθυσμού θα πρέπει να αποτελείται από χρωμοσώματα τα οποία θα είναι τυχαία επιλεγμένα και διορθωμένα ώστε ο αριθμός που υπάρχει σε κάθε θέση να είναι γείτονας του αντίστοιχου κόμβου. (Αν δεν ισχύει θα πρέπει να αντικατασταθεί από ένα γείτονα του αντίστοιχου κόμβου.) Θεωρείστε πληθυσμό $300$ χρωμοσωμάτων.</p>\n",
    "\n",
    "##### Συνάρτηση Fitness\n",
    "<p style=text-align:justify>Η συνάρτηση fitness υπολογίζεται όπως στις διαφάνειες 28 και 29 της αντίστοιχης διάλεξης του μαθήματος. Προσοχή για κάθε συνιστώσα (component) του γράφου θα πρέπει να βρίσκετε τον αντίστοιχο υπογράφο.</p>\n",
    "\n",
    "##### Επιλογή (Selection)\n",
    "<p style=text-align:justify>Η επιλογή χρωμοσωμάτων από μία γενιά του πληθυσμού για την κατασκευή της επόμενης γενιάς γίνεται με τη μέθοδο της ρουλέτας (διαφάνειες μαθήματος και αλγόριθμος). Τροποποιήστε τον παραπάνω αλγόριθμο ώστε να εφαρμόσετε και ελιτισμό, δηλαδή τα $x$ πρώτα χρωμοσώματα της νέας γενιάς θα είναι εκείνα τα χρωμοσώματα της προηγούμενης γενιάς που έχουν επιτύχει τη μέγιστη τιμή της συνάρτησης fitness.</p>\n",
    "\n",
    "##### Διασταύρωση (Crossover)\n",
    "<p style=text-align:justify>Η διασταύρωση πραγματοποιείται όπως περιγράφεται στον αλγόριθμο, μεταξύ διαδοχικών χρωμοσωμάτων της εκάστοτε γενιάς. Η πιθανότητα διασταύρωσης ανά ζεύγος είναι ίση με $p_C$.</p>\n",
    "\n",
    "##### Μετάλλαξη (Mutation)\n",
    "<p style=text-align:justify>Η μετάλλαξη πραγματοποιείται σε κάθε θέση του χρωμοσώματος με πιθανότητα $p_M$, όπως στον αλγόριθμο. Θα πρέπει ωστόσο ο αλγόριθμος να τροποποιηθεί ώστε να δίνει ένα τυχαίο γείτονα του κόμβου που αντιστοιχεί σε κάθε θέση ως αποτέλεσμα της μετάλλαξης.</p>\n",
    "\n",
    "##### Κριτήριο Τερματισμού (Stopping Criterion)\n",
    "<p style=text-align:justify>Ως κριτήριο τερματισμού ορίστε ένα μέγιστο πλήθος επαναλήψεων εφαρμογής του αλγορίθμου (γενεών πληθυσμού), ίσο με $30$, ή ότι η βέλτιστη τιμή της συνάρτησης fitness δεν έχει μεταβληθεί για τις τελευταίες $5$ επαναλήψεις. Εφαρμόστε τον παραπάνω γενετικό αλγόριθμο στις πραγματικές τοπολογίες της δεύτερης εργαστηριακής άσκησης που δίνονται και στον Πίνακα 1. Οι παράμετροι που θα πρέπει να εξεταστούν δίνονται στον παρακάτω πίνακα. Προσοχή θα πρέπει να εξεταστούν όλοι οι συνδυασμοί.</p>\n",
    "\n",
    "<table style=width:100%>\n",
    "<tr>\n",
    "    <th style=text-align:left>Παράμετρος</th>\n",
    "    <th style=text-align:left>Τιμές</th>\n",
    "</tr>\n",
    "<tr>\n",
    "    <td style=text-align:left>Διαστάυρωση $p_C$</td>\n",
    "    <td style=text-align:left>$0.7:0.9$ με βήμα $0.1$</td>\n",
    "</tr>\n",
    "<tr>\n",
    "    <td style=text-align:left>Μετάλλαξη $p_M$</td>\n",
    "    <td style=text-align:left>$\\{0.1,0.2\\}$</td>\n",
    "</tr>\n",
    "<tr>\n",
    "    <td style=text-align:left>Ελιτισμός $x$</td>\n",
    "    <td style=text-align:left>$1:3$ με βήμα $1$</td>\n",
    "</tr>\n",
    "</table>\n",
    "\n",
    "<p style=text-align:justify>Συγκρίνετε το αποτέλεσμα του γενετικού αλγορίθμου (το καλύτερο για τις διάφορες επιλογές παραμέτρων) με εκείνο των αλγορίθμων εντοπισμού κοινοτήτων της εργαστηριακής άσκησης 2 (δίνονται και στον Πίνακα 2), υπολογίζοντας το modularity. Θα πρέπει να έχετε πρωτίστως μετατρέψει το αποτέλεσμα του γενετικού αλγορίθμου σε κατάλληλη μορφη πάνω στο χρωμόσωμα που επιτυγχάνει τη βέλτιστη τιμή της συνάρτησης fitness.</p>\n"
   ]
  },
  {
   "cell_type": "code",
   "execution_count": null,
   "metadata": {},
   "outputs": [],
   "source": [
    "### ATTENTION: don't change because the variables are used in the given code\n",
    "### the use of the converted graph is optional\n",
    "\n",
    "# Import real topologies \n",
    "\n",
    "football_gml = nx.read_gml(\"./football.gml\")\n",
    "lesmis_gml = nx.read_gml(\"./lesmis.gml\")\n",
    "dolphins_gml = nx.read_gml(\"./dolphins.gml\")\n",
    "\n",
    "def conv2int(G,start_value):\n",
    "    nG = nx.convert_node_labels_to_integers(G, first_label=start_value)\n",
    "    G_mapping = dict(enumerate(G.nodes,0))\n",
    "    return nG,G_mapping\n",
    "\n",
    "football, football_map = conv2int(football_gml,0)\n",
    "lesmis, lesmis_map = conv2int(lesmis_gml,0)\n",
    "dolphins, dolphins_map = conv2int(dolphins_gml,0)"
   ]
  },
  {
   "cell_type": "code",
   "execution_count": null,
   "metadata": {},
   "outputs": [],
   "source": [
    "def create_population():\n",
    "    # Create the initial population\n",
    "    pass\n",
    "\n",
    "def find_fitness():\n",
    "    # Calculate fitness of chromosomes\n",
    "    pass\n",
    "\n",
    "def proportional_selection():\n",
    "    # Select chromosomes to pass to next population proportionally to their fitness\n",
    "    pass\n",
    "\n",
    "def crossover():\n",
    "    # Apply crossover to population\n",
    "    pass\n",
    "\n",
    "def mutation():\n",
    "    # Apply mutation to population\n",
    "    pass\n",
    "\n",
    "def genetic_algorithm():\n",
    "    # Main genetic algorithm\n",
    "    pass"
   ]
  },
  {
   "cell_type": "code",
   "execution_count": null,
   "metadata": {},
   "outputs": [],
   "source": [
    "# Run the genetic algorithm for different values of the requested parameters\n"
   ]
  },
  {
   "cell_type": "code",
   "execution_count": null,
   "metadata": {},
   "outputs": [],
   "source": [
    "# modularity for GA community detection algorithm \n",
    "def compute_modularity(G,G_results):\n",
    "    pass\n"
   ]
  },
  {
   "cell_type": "markdown",
   "metadata": {},
   "source": [
    "#### Σχόλια για τα αποτελέσματα του γενετικού αλγόριθμου ανάλογα με τις τιμές των παραμέτρων"
   ]
  },
  {
   "cell_type": "markdown",
   "metadata": {},
   "source": [
    "### Find the best partition with Girvan-Newman, Spectral Clustering and Modularity Maximization\n",
    "<p style=text-align:justify>Aποτέλεσματα των αλγορίθμων της δεύτερης εργαστηριακής άσκησης (με προτεινόμενη υλοποίηση).</p>"
   ]
  },
  {
   "cell_type": "code",
   "execution_count": null,
   "metadata": {},
   "outputs": [],
   "source": [
    "import itertools\n",
    "\n",
    "# Girvan_newman:partitions of at most k communities, select the one with the highest value of modularity.\n",
    "def comd_GN(G,k):\n",
    "    gn_G = nx.algorithms.community.centrality.girvan_newman(G)\n",
    "    limited = itertools.takewhile(lambda c: len(c) <= k, gn_G)\n",
    "    per_G = []\n",
    "    com_G = []\n",
    "    for communities in limited:\n",
    "        per = nx.algorithms.community.quality.performance(G,communities)\n",
    "        per_G.append(per) #list of performance of each partition\n",
    "        com_G.append(communities) # list of partitions\n",
    "    max_mod_G = max(per_G) # maximum modularity value\n",
    "    index_G = per_G.index(max(per_G)) # index of maximum modularity\n",
    "    best_G = com_G[index_G] # the partition of maximum modularity  \n",
    "    num_best_G = len(best_G)\n",
    "    return best_G, max_mod_G, num_best_G\n",
    "\n",
    "GN_best_football, GN_mod_football, GN_num_football = comd_GN(football,50)\n",
    "GN_best_lesmis, GN_mod_lesmis, GN_num_lesmis = comd_GN(lesmis,50)\n",
    "GN_best_dolphins, GN_mod_dolphins, GN_num_dolphins = comd_GN(dolphins,50)"
   ]
  },
  {
   "cell_type": "code",
   "execution_count": null,
   "metadata": {},
   "outputs": [],
   "source": [
    "from sklearn.cluster import SpectralClustering\n",
    "\n",
    "# Spectral Clustering\n",
    "def comd_SP(G,k):\n",
    "    mG = np.array(nx.to_numpy_matrix(G))\n",
    "    clustering = SpectralClustering(n_clusters=k,random_state=0, affinity='precomputed').fit(mG)\n",
    "    clabels = clustering.labels_\n",
    "    numc = clustering.n_clusters\n",
    "    b = dict(enumerate(clabels,0)) # create a mapping of nodes indices to the community it belongs\n",
    "    d = [] # a list of all communities (each list is a community)\n",
    "    for i in range(0,numc):\n",
    "        d.append([k for k,v in b.items() if float(v) == i])\n",
    "    per = nx.algorithms.community.quality.performance(G,d)\n",
    "    return d, per, numc\n",
    "\n",
    "def find_best_SP_partition(G,k):\n",
    "    com = []\n",
    "    com_mod = []\n",
    "    com_num = []\n",
    "    for i in range(2,k):\n",
    "        tcom,tcom_mod,tcom_num = comd_SP(G,i)\n",
    "        com.append(tcom)\n",
    "        com_mod.append(tcom_mod)\n",
    "        com_num.append(tcom_num)\n",
    "    index = com_mod.index(max(com_mod))\n",
    "    G_SP = com[index]\n",
    "    G_SP_mod = com_mod[index]\n",
    "    G_SP_num = com_num[index]\n",
    "    return G_SP, G_SP_mod, G_SP_num\n",
    "\n",
    "football_SP, football_SP_mod, football_SP_num = find_best_SP_partition(football,50) \n",
    "lesmis_SP, lesmis_SP_mod, lesmis_SP_num = find_best_SP_partition(lesmis,50)  \n",
    "dolphins_SP, dolphins_SP_mod, dolphins_SP_num = find_best_SP_partition(dolphins,50)"
   ]
  },
  {
   "cell_type": "code",
   "execution_count": null,
   "metadata": {},
   "outputs": [],
   "source": [
    "# Modularity Maximization\n",
    "def comd_MM(G):\n",
    "    c = list(nx.algorithms.community.modularity_max.greedy_modularity_communities(G))\n",
    "    mm_G = []\n",
    "    for i,j in enumerate(c):\n",
    "        a = list(j)\n",
    "        mm_G.append(a)\n",
    "    per = nx.algorithms.community.quality.performance(G,mm_G)\n",
    "    num_G = len(mm_G)\n",
    "    return mm_G, per,num_G\n",
    "\n",
    "football_MM, football_MM_mod, football_MM_num = comd_MM(football)\n",
    "lesmis_MM, lesmis_MM_mod, lesmis_MM_num = comd_MM(lesmis)  \n",
    "dolphins_MM, dolphins_MM_mod, dolphins_MM_num = comd_MM(dolphins)"
   ]
  },
  {
   "cell_type": "markdown",
   "metadata": {},
   "source": [
    "### Compare best modularity scores for all algorithms"
   ]
  },
  {
   "cell_type": "code",
   "execution_count": null,
   "metadata": {},
   "outputs": [],
   "source": [
    "# Compare results \n",
    "print (\"American College Football\")\n",
    "print (\"Girvan-Newman: %r communities with modularity score %r\" %(GN_num_football, GN_mod_football))\n",
    "print (\"Spectral Clustering: %r communities with modularity score %r\" %(football_SP_num, football_SP_mod))\n",
    "print (\"Modularity Maximization: %r communities with modularity score %r\" %(football_MM_num, football_MM_mod))\n",
    "print (\"Genetic Algorithm: %r communities with modularity score %r\" %(,))\n",
    "print()\n",
    "print (\"Les Miserables\")\n",
    "print (\"Girvan-Newman: %r communities with modularity score %r\" %(GN_num_lesmis, GN_mod_lesmis))\n",
    "print (\"Spectral Clustering: %r communities with modularity score %r\" %(lesmis_SP_num, lesmis_SP_mod))\n",
    "print (\"Modularity Maximization: %r communities with modularity score %r\" %(lesmis_MM_num, lesmis_MM_mod))\n",
    "print (\"Genetic Algorithm: %r communities with modularity score %r\"%(,))\n",
    "print()\n",
    "print (\"Dolphins\")\n",
    "print (\"Girvan-Newman: %r communities with modularity score %r\" %(GN_num_dolphins, GN_mod_dolphins))\n",
    "print (\"Spectral Clustering: %r communities with modularity score %r\" %(dolphins_SP_num, dolphins_SP_mod))\n",
    "print (\"Modularity Maximization: %r communities with modularity score %r\" %(dolphins_MM_num, dolphins_MM_mod))\n",
    "print (\"Genetic Algorithm: %r communities with modularity score %r\" %(,))"
   ]
  },
  {
   "cell_type": "markdown",
   "metadata": {},
   "source": [
    "#### Σχόλια για τα αποτελέσματα του γενετικού αλγόριθμου συγκριτικά με τους άλλους"
   ]
  }
 ],
 "metadata": {
  "kernelspec": {
   "display_name": "Python 3",
   "language": "python",
   "name": "python3"
  },
  "language_info": {
   "codemirror_mode": {
    "name": "ipython",
    "version": 3
   },
   "file_extension": ".py",
   "mimetype": "text/x-python",
   "name": "python",
   "nbconvert_exporter": "python",
   "pygments_lexer": "ipython3",
   "version": "3.7.4"
  }
 },
 "nbformat": 4,
 "nbformat_minor": 2
}
